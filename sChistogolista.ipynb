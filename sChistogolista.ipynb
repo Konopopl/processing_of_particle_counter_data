{
 "cells": [
  {
   "cell_type": "raw",
   "metadata": {},
   "source": [
    "import os   \n",
    "from openpyxl import Workbook  \n",
    "from openpyxl import load_workbook   \n",
    "import numpy \n",
    "\n",
    "p=os.listdir(\"C:\\\\Users\\\\Pavlo\\\\Desktop\\\\PAVEL\\\\dannie\\\\2020podniam\") \n",
    "for i in range(len(p)):\n",
    "\n",
    "    fail=p[i] \n",
    "    folder=\"C:\\\\Users\\\\Pavlo\\\\Desktop\\\\PAVEL\\\\dannie\\\\2020podniam\\\\\" \n",
    "    wb = load_workbook(folder+fail)  \n",
    "    sheet = wb[\"Sheet\"] # указание листа  \n",
    "    s=[]\n",
    "    for j in range(1440):  \n",
    "        if sheet.cell(row=1+j, column=2).value!=0: \n",
    "            s+=[sheet.cell(row=1+j, column=2).value]\n",
    "    srednesyt=numpy.mean(s)  \n",
    "\n",
    "    wb = load_workbook(\"C:\\\\Users\\\\Pavlo\\\\Desktop\\\\PAVEL\\\\dannie\\\\srednii.xlsx\")  \n",
    "    sheet = wb[\"Sheet\"]  \n",
    "    sheet.cell(row=1+i, column=1, value=str(p[i]))\n",
    "    sheet.cell(row=1+i, column=2, value=srednesyt) \n",
    "    wb.save(\"C:\\\\Users\\\\Pavlo\\\\Desktop\\\\PAVEL\\\\dannie\\\\srednii.xlsx\")  "
   ]
  },
  {
   "cell_type": "code",
   "execution_count": 7,
   "metadata": {},
   "outputs": [
    {
     "name": "stdout",
     "output_type": "stream",
     "text": [
      "1\n"
     ]
    }
   ],
   "source": [
    "print(1)"
   ]
  },
  {
   "cell_type": "code",
   "execution_count": 8,
   "metadata": {},
   "outputs": [],
   "source": [
    "def f2(day,year): #по номеру число \n",
    "\n",
    "        m2 = [31,29,31,30,31,30,31,31,30,31,30,31] \n",
    "\n",
    "        month = 0\n",
    "        for i in m2:\n",
    "            day -= i\n",
    "            month += 1\n",
    "            if day <= 0:\n",
    "                return(str(day+i)+'.'+str(month)+'.'+str(year))"
   ]
  },
  {
   "cell_type": "code",
   "execution_count": 9,
   "metadata": {},
   "outputs": [],
   "source": [
    "def number(data): \n",
    "    m = [0,31,29,31,30,31,30,31,31,30,31,30,31]  \n",
    "    day=data.split(\".\")[0]  \n",
    "    month=data.split(\".\")[1]  \n",
    "    number=0 \n",
    "    for i in range(int(month)): \n",
    "        number+=m[i] \n",
    "    number=number+int(day)\n",
    "\n",
    "    #print(number) \n",
    "    return(number)"
   ]
  },
  {
   "cell_type": "code",
   "execution_count": null,
   "metadata": {},
   "outputs": [],
   "source": []
  },
  {
   "cell_type": "code",
   "execution_count": 10,
   "metadata": {},
   "outputs": [],
   "source": [
    "import os   \n",
    "from openpyxl import Workbook  \n",
    "from openpyxl import load_workbook   \n",
    "import numpy \n"
   ]
  },
  {
   "cell_type": "code",
   "execution_count": 11,
   "metadata": {},
   "outputs": [],
   "source": [
    "wb = load_workbook(\"C:\\\\Users\\\\Pavlo\\\\Desktop\\\\PAVEL\\\\dannie\\\\srednii.xlsx\")  \n",
    "sheet = wb['Sheet'] # указание листа \n",
    "#sheet.cell(row=10, column=10, value=\"FFFFF\")  \n",
    "for i in range(188): \n",
    "    data=sheet.cell(row=1+i, column=1).value \n",
    "    sheet.cell(row=1+i, column=4, value=number(data))\n",
    "wb.save(\"C:\\\\Users\\\\Pavlo\\\\Desktop\\\\PAVEL\\\\dannie\\\\srednii.xlsx\")"
   ]
  },
  {
   "cell_type": "code",
   "execution_count": 12,
   "metadata": {},
   "outputs": [],
   "source": [
    "srednee=[] \n",
    "nomer=[] \n",
    "wb = load_workbook(\"C:\\\\Users\\\\Pavlo\\\\Desktop\\\\PAVEL\\\\dannie\\\\srednii.xlsx\")  \n",
    "sheet = wb['Sheet'] # указание листа \n",
    "#sheet.cell(row=10, column=10, value=\"FFFFF\")  \n",
    "for i in range(188): \n",
    "    srednee+=[sheet.cell(row=1+i, column=2).value] \n",
    "    nomer+=[sheet.cell(row=1+i, column=4).value]  \n",
    "#wb.save(\"C:\\\\Users\\\\Pavlo\\\\Desktop\\\\PAVEL\\\\dannie\\\\srednii.xlsx\")    \n",
    "    "
   ]
  },
  {
   "cell_type": "code",
   "execution_count": 13,
   "metadata": {},
   "outputs": [],
   "source": [
    "import numpy as np\n",
    "import matplotlib.pyplot as plt\n",
    "from matplotlib import ticker\n",
    "def Graf(x,y): \n",
    "    fig, ax = plt.subplots() \n",
    "    ax.plot(y, x, 'ro', markersize=3)\n",
    "    \n",
    "    \n",
    "    \n",
    "    #  Устанавливаем интервал основных делений:\n",
    "    ax.xaxis.set_major_locator(ticker.MultipleLocator(20))\n",
    "    #ax.xaxis.set_minor_locator(ticker.MultipleLocator(20))\n",
    "    \n",
    "   \n",
    "\n",
    "    #  Тоже самое проделываем с делениями на оси \"y\":\n",
    "    #ay.yaxis.set_major_locator(ticker.MultipleLocator(50))\n",
    "    #ax.yaxis.set_minor_locator(ticker.MultipleLocator(10))\n",
    "    \n",
    "    #пределы x,y \n",
    "    #plt.xlim(0,900)  \n",
    "    fig.set_figwidth(20)\n",
    "    fig.set_figheight(6)\n",
    "    #ax.plot(y, x, color = 'r', linewidth = 3)\n",
    "    ax.minorticks_on()\n",
    "    ax.grid(which='major',\n",
    "            color = 'k')\n",
    "#     ax.grid(which='minor',\n",
    "#         color = 'gray',\n",
    "#         linestyle = ':')\n",
    "    #plt.xlim([0, 366])\n",
    "    #plt.ylim([15, 40])\n",
    "    plt.show() \n",
    "    "
   ]
  },
  {
   "cell_type": "code",
   "execution_count": 14,
   "metadata": {},
   "outputs": [
    {
     "data": {
      "image/png": "[encoded data removed]",
      "text/plain": [
       "<Figure size 1440x432 with 1 Axes>"
      ]
     },
     "metadata": {
      "needs_background": "light"
     },
     "output_type": "display_data"
    }
   ],
   "source": [
    "Graf(srednee,nomer)"
   ]
  },
  {
   "cell_type": "code",
   "execution_count": 15,
   "metadata": {},
   "outputs": [],
   "source": [
    "import os   \n",
    "from openpyxl import Workbook  \n",
    "from openpyxl import load_workbook \n",
    "import numpy as np\n",
    "import matplotlib.pyplot as plt\n",
    "from matplotlib import ticker"
   ]
  },
  {
   "cell_type": "code",
   "execution_count": 16,
   "metadata": {},
   "outputs": [],
   "source": [
    "p=os.listdir(\"C:\\\\Users\\\\Pavlo\\\\Desktop\\\\PAVEL\\\\dannie\\\\prived_dati\")"
   ]
  },
  {
   "cell_type": "code",
   "execution_count": 17,
   "metadata": {},
   "outputs": [],
   "source": [
    "def Graffic(x,y,nomerchasa): \n",
    "    fig, ax = plt.subplots() \n",
    "    ax.plot(y, x, 'ro', markersize=3)\n",
    "    \n",
    "    \n",
    "    \n",
    "    #  Устанавливаем интервал основных делений:\n",
    "    ax.xaxis.set_major_locator(ticker.MultipleLocator(20))\n",
    "    #ax.xaxis.set_minor_locator(ticker.MultipleLocator(20))\n",
    "    \n",
    "   \n",
    "\n",
    "    #  Тоже самое проделываем с делениями на оси \"y\":\n",
    "    #ay.yaxis.set_major_locator(ticker.MultipleLocator(50))\n",
    "    #ax.yaxis.set_minor_locator(ticker.MultipleLocator(10))\n",
    "    \n",
    "    #пределы x,y \n",
    "    #plt.xlim(0,900)  \n",
    "    fig.set_figwidth(15)\n",
    "    fig.set_figheight(6)\n",
    "    #ax.plot(y, x, color = 'r', linewidth = 3)\n",
    "    ax.minorticks_on()\n",
    "    ax.grid(which='major',\n",
    "            color = 'k')\n",
    "#     ax.grid(which='minor',\n",
    "#         color = 'gray',\n",
    "#         linestyle = ':')\n",
    "    plt.xlim([0, 366])\n",
    "    plt.ylim([10, 40])\n",
    "    plt.show() \n",
    "    os.chdir(\"C:\\\\Users\\\\Pavlo\\\\Desktop\\\\PAVEL\\\\dannie\\\\priv_chas\")  \n",
    "    index=str(nomerchasa)+\".png\"\n",
    "    fig.savefig(index)\n",
    "    "
   ]
  },
  {
   "cell_type": "code",
   "execution_count": null,
   "metadata": {},
   "outputs": [],
   "source": [
    " \n",
    "\n",
    "def srchas2020(nomerchasa):\n",
    "    list=os.listdir(\"C:\\\\Users\\\\Pavlo\\\\Desktop\\\\PAVEL\\\\dannie\\\\prived_dati\") \n",
    "    sr_onechas=[] \n",
    "    date=[]  \n",
    "\n",
    "    for i in range(len(list)): \n",
    "        string=list[i]  \n",
    "\n",
    "        date+=[int(list[i].split(\".\")[0])]  \n",
    "        wb = load_workbook(\"C:\\\\Users\\\\Pavlo\\\\Desktop\\\\PAVEL\\\\dannie\\\\prived_dati\\\\\"+p[i])  \n",
    "        sheet = wb[\"Sheet\"] # указание листа \n",
    "        sr_onechas+=[sheet.cell(row=1+nomerchasa, column=3).value] \n",
    "    Graffic(sr_onechas,date,nomerchasa)  \n",
    "    \n",
    "    "
   ]
  },
  {
   "cell_type": "code",
   "execution_count": null,
   "metadata": {},
   "outputs": [],
   "source": [
    "for nomerchasa in range(24): \n",
    "    srchas2020(nomerchasa)\n"
   ]
  },
  {
   "cell_type": "code",
   "execution_count": null,
   "metadata": {},
   "outputs": [],
   "source": []
  },
  {
   "cell_type": "code",
   "execution_count": 8,
   "metadata": {},
   "outputs": [],
   "source": [
    "import os   \n",
    "from openpyxl import Workbook  \n",
    "from openpyxl import load_workbook   \n",
    "import numpy \n"
   ]
  },
  {
   "cell_type": "code",
   "execution_count": 21,
   "metadata": {},
   "outputs": [],
   "source": [
    "def f(day,year): #по номеру число \n",
    "\n",
    "        m2 = [31,29,31,30,31,30,31,31,30,31,30,31] \n",
    "\n",
    "        month = 0\n",
    "        for i in m2:\n",
    "            day -= i\n",
    "            month += 1\n",
    "            if day <= 0:\n",
    "                return(str(day+i)+'.'+str(month)+'.'+str(year))"
   ]
  },
  {
   "cell_type": "code",
   "execution_count": 22,
   "metadata": {},
   "outputs": [
    {
     "name": "stdout",
     "output_type": "stream",
     "text": [
      "1.1.2020\n"
     ]
    }
   ],
   "source": [
    "print(f(1,2020))"
   ]
  },
  {
   "cell_type": "code",
   "execution_count": 29,
   "metadata": {},
   "outputs": [],
   "source": [
    "wb = load_workbook(\"C:\\\\Users\\\\Pavlo\\\\Desktop\\\\PAVEL\\\\dannie\\\\davlenie.xlsx\")  \n",
    "sheet = wb['Sheet'] # указание листа \n",
    "#sheet.cell(row=1, column=1, value=\"FFFFF\") \n",
    "for i in range(366): \n",
    "    sheet.cell(row=1+i, column=1, value=i+1)  \n",
    "    sheet.cell(row=1+i, column=2, value=f(i+1,2020))\n",
    "    \n",
    "    \n",
    "wb.save(\"C:\\\\Users\\\\Pavlo\\\\Desktop\\\\PAVEL\\\\dannie\\\\davlenie.xlsx\")"
   ]
  },
  {
   "cell_type": "code",
   "execution_count": null,
   "metadata": {},
   "outputs": [],
   "source": []
  }
 ],
 "metadata": {
  "kernelspec": {
   "display_name": "Python 3",
   "language": "python",
   "name": "python3"
  },
  "language_info": {
   "codemirror_mode": {
    "name": "ipython",
    "version": 3
   },
   "file_extension": ".py",
   "mimetype": "text/x-python",
   "name": "python",
   "nbconvert_exporter": "python",
   "pygments_lexer": "ipython3",
   "version": "3.8.5"
  }
 },
 "nbformat": 4,
 "nbformat_minor": 4
}
