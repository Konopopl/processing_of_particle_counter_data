{
 "cells": [
  {
   "cell_type": "code",
   "execution_count": 64,
   "metadata": {},
   "outputs": [],
   "source": [
    "#import os \n",
    "#C:\\Users\\Pavlo\\Desktop\\atatiya\\obrrrrr = C:\\\\Users\\\\Pavlo\\\\Desktop\\\\atatiya\\\\obrrrrr \n",
    "#p = os.listdir(\"C:\\\\Users\\\\Pavlo\\\\Desktop\\\\atatiya\\\\obrrrrr\") #массив файлов в папке \n",
    "#print(\"Текущая деректория:\", os.getcwd()) \n",
    "#os.mkdir(\"..\") создание папки \n",
    "#os.chdir(\"folder\") переход в папку\n",
    "#os.makedirs(\"nested1/nested2/nested3\") создать вложенные папки  \n",
    "#os.chdir(\"..\") # переход в каталог os\n",
    "#os.chdir(\"/\")  # в корневой каталог \n",
    "# os.chdir(\"..\") # переход в каталог os \n",
    "#os.rename(\"text.txt\", \"renamed-text.txt\") переименовать файлы \n",
    " \n",
    "## заменить (переместить) этот файл в другой каталог os.replace(\"renamed-text.txt\", \"folder/renamed-text.txt\") \n",
    "\n",
    "#os.chdir(\"C:\\\\Users\\\\Pavlo\\\\Desktop\\\\atatiya\\\\obrrrrr \")  \n",
    "#os.replace(\"C:\\\\Users\\\\Pavlo\\\\Desktop\\\\atatiya\\\\11.txt\", \"C:\\\\Users\\\\Pavlo\\\\Desktop\\\\atatiya\\\\obrrrrr\\\\11.txt\") перемещение \n",
    "#файла из одной папки в другую \n",
    "\n",
    "# os.rename(\"11.txt\", \"12.txt\") переименовать\n",
    " \n",
    "#os.remove(\"folder/renamed-text.txt\") удалить этот фай"
   ]
  },
  {
   "cell_type": "raw",
   "metadata": {},
   "source": [
    "# распечатать все файлы и папки рекурсивно\n",
    "for dirpath, dirnames, filenames in os.walk(\".\"):\n",
    "    # перебрать каталоги\n",
    "    for dirname in dirnames:\n",
    "        print(\"Каталог:\", os.path.join(dirpath, dirname))\n",
    "    # перебрать файлы\n",
    "    for filename in filenames:\n",
    "        print(\"Файл:\", os.path.join(dirpath, filename))"
   ]
  },
  {
   "cell_type": "raw",
   "metadata": {},
   "source": [
    "переименовать файлы папки по порядку\n",
    "import os \n",
    "os.chdir(\"folder\")  \n",
    "p = os.listdir(\"folder\")\n",
    "from openpyxl import Workbook  #библиотека работы с эксель \n",
    "wb = Workbook() \n",
    "wb.create_sheet(\"sheet_names\")\n",
    "sheet = wb.worksheets[0] \n",
    "for i in range(len(p)):\n",
    "    sheet.cell(row=i + 1, column=1, value=p[i])\n",
    "    sheet.cell(row=i + 1, column=3, value=i)\n",
    "    os.rename('folder\\\\'+ p[i], 'folder\\\\' + str(i) + '.txt')"
   ]
  },
  {
   "cell_type": "code",
   "execution_count": null,
   "metadata": {},
   "outputs": [],
   "source": []
  },
  {
   "cell_type": "raw",
   "metadata": {},
   "source": [
    "создание файла эксель  \n",
    "#from openpyxl import Workbook   \n",
    "#wb = Workbook() \n",
    "#wb.create_sheet(\"0\") #название листа\n",
    "#sheet = wb.worksheets[0]   #открытие листа  \n",
    "#wb.save('C:\\\\Users\\\\Pavlo\\\\Desktop\\\\atatiya\\\\obrrrrr\\\\huy.xlsx')"
   ]
  },
  {
   "cell_type": "code",
   "execution_count": null,
   "metadata": {},
   "outputs": [],
   "source": []
  },
  {
   "cell_type": "code",
   "execution_count": 34,
   "metadata": {},
   "outputs": [],
   "source": [
    "import os  \n",
    "from openpyxl import Workbook \n",
    "os.chdir(\"C:\\\\Users\\\\Pavlo\\\\Desktop\\\\atatiya\\\\obrrrrr \") #переход в папку \n",
    "from openpyxl import load_workbook \n",
    "wb = load_workbook(\"C:\\\\Users\\\\Pavlo\\\\Desktop\\\\atatiya\\\\obrrrrr\\\\huy.xlsx\")  \n",
    "sheet = wb['Sheet'] # указание листа \n",
    " #пишем значение ячейки  \n",
    "#sheet.cell(row=1, column=1, value='') #стираем значение ячейки \n",
    "#t0 = sheet.cell(row=1, column=1).value #считываем значение ячейки  \n",
    "\n",
    "    \n",
    "wb.save(\"C:\\\\Users\\\\Pavlo\\\\Desktop\\\\atatiya\\\\obrrrrr\\\\huy.xlsx\")  \n"
   ]
  },
  {
   "cell_type": "code",
   "execution_count": 1,
   "metadata": {},
   "outputs": [
    {
     "name": "stdout",
     "output_type": "stream",
     "text": [
      "['fffff', 'fff', 'fff', 'g'] fffff\n"
     ]
    }
   ],
   "source": [
    "string='fffff.fff.fff.g' \n",
    "index = string.split('.') #разделитель строки на слова \n",
    "index1 =  string.split('.')[0] # 1 символ до разделителя \n",
    "print(index,index1) "
   ]
  },
  {
   "cell_type": "code",
   "execution_count": 36,
   "metadata": {},
   "outputs": [],
   "source": [
    "from openpyxl import Workbook    \n",
    "from openpyxl import load_workbook \n",
    "wb = Workbook() \n",
    "wb.save(\"C:\\\\Users\\\\Pavlo\\\\Desktop\\\\Новая папка\\\\1.xlsx\")  \n",
    "\n"
   ]
  },
  {
   "cell_type": "code",
   "execution_count": 37,
   "metadata": {},
   "outputs": [],
   "source": [
    "wb = load_workbook(\"C:\\\\Users\\\\Pavlo\\\\Desktop\\\\Новая папка\\\\1.xlsx\")  \n",
    "sheet = wb['Sheet'] # указание листа \n",
    "sheet.cell(row=1, column=1, value=\"FFFFF\") \n",
    " \n",
    "wb.save(\"C:\\\\Users\\\\Pavlo\\\\Desktop\\\\Новая папка\\\\1.xlsx\")"
   ]
  },
  {
   "cell_type": "code",
   "execution_count": 38,
   "metadata": {},
   "outputs": [],
   "source": [
    "from openpyxl import Workbook    \n",
    "from openpyxl import load_workbook  \n",
    "wb = load_workbook(\"C:\\\\Users\\\\Pavlo\\\\Desktop\\\\Новая папка\\\\06.02.2020.137.xlsx\")  \n",
    "sheet = wb['Sheet'] # указание листа  \n",
    "x= sheet.cell(row=1, column=1).value\n",
    "wb = Workbook() \n",
    "wb.save(\"C:\\\\Users\\\\Pavlo\\\\Desktop\\\\Новая папка\\\\1.xlsx\") \n",
    "wb = load_workbook(\"C:\\\\Users\\\\Pavlo\\\\Desktop\\\\Новая папка\\\\1.xlsx\")  \n",
    "sheet = wb['Sheet'] # указание листа \n",
    "sheet.cell(row=1, column=1, value=x) \n",
    " \n",
    "wb.save(\"C:\\\\Users\\\\Pavlo\\\\Desktop\\\\Новая папка\\\\1.xlsx\")\n",
    "\n"
   ]
  },
  {
   "cell_type": "code",
   "execution_count": 51,
   "metadata": {},
   "outputs": [],
   "source": [
    "from openpyxl import Workbook    \n",
    "from openpyxl import load_workbook \n",
    "folder=\"C:\\\\Users\\\\Pavlo\\\\Desktop\\\\Новая папка\\\\\"   \n",
    "\n",
    "name=\"06.02.2020.137.xlsx\"  \n",
    "\n",
    "wb = load_workbook(folder+name)   \n",
    "sheet = wb[\"Sheet\"]  \n",
    "n=int(sheet.cell(row=10, column=13).value) \n",
    "for i in range(10):\n",
    "    #wb = Workbook()   \n",
    "\n",
    "    #wb.save(\"C:\\\\Users\\\\Pavlo\\\\Desktop\\\\Новая папка\\\\3.xlsx\")   \n",
    "    wb = load_workbook(\"C:\\\\Users\\\\Pavlo\\\\Desktop\\\\Новая папка\\\\3.xlsx\")  \n",
    "    sheet = wb['Sheet'] # указание листа \n",
    "    sheet.cell(row=1, column=1+i, value=n*i) \n",
    "\n",
    "    wb.save(\"C:\\\\Users\\\\Pavlo\\\\Desktop\\\\Новая папка\\\\3.xlsx\")\n",
    "\n",
    "\n",
    "\n"
   ]
  },
  {
   "cell_type": "code",
   "execution_count": null,
   "metadata": {},
   "outputs": [],
   "source": []
  },
  {
   "cell_type": "code",
   "execution_count": null,
   "metadata": {},
   "outputs": [],
   "source": []
  }
 ],
 "metadata": {
  "kernelspec": {
   "display_name": "Python 3",
   "language": "python",
   "name": "python3"
  },
  "language_info": {
   "codemirror_mode": {
    "name": "ipython",
    "version": 3
   },
   "file_extension": ".py",
   "mimetype": "text/x-python",
   "name": "python",
   "nbconvert_exporter": "python",
   "pygments_lexer": "ipython3",
   "version": "3.8.5"
  }
 },
 "nbformat": 4,
 "nbformat_minor": 4
}
